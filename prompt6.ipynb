{
  "metadata": {
    "kernelspec": {
      "name": "python",
      "display_name": "Python (Pyodide)",
      "language": "python"
    },
    "language_info": {
      "codemirror_mode": {
        "name": "python",
        "version": 3
      },
      "file_extension": ".py",
      "mimetype": "text/x-python",
      "name": "python",
      "nbconvert_exporter": "python",
      "pygments_lexer": "ipython3",
      "version": "3.8"
    }
  },
  "nbformat_minor": 4,
  "nbformat": 4,
  "cells": [
    {
      "cell_type": "markdown",
      "source": "import math\n\ndef sin_value(x):\n    return math.sin(x)",
      "metadata": {}
    },
    {
      "cell_type": "markdown",
      "source": "import math\n\ndef cos_value(x):\n    return math.cos(x)",
      "metadata": {}
    },
    {
      "cell_type": "markdown",
      "source": "import pandas as pd\nimport numpy as np\nx_array = np.linspace(0, 2 * np.pi, 1000)\nsinx_array = np.sin(x_array)\ncosx_array = np.cos(x_array)\nprint(\"{:<10} {:<10}\".format('sin(x)', 'cos(x)'))\nfor x, sin_x in zip(sinx_array, cosx_array):\n    print(\"{:<10.2f} {:<10.2f}\".format(sin_x, cos_x))",
      "metadata": {}
    },
    {
      "cell_type": "markdown",
      "source": "import numpy as np\nx_values = np.linspace(0, 2*np.pi, 10)\nsin_values = np.sin(x_values)\ncos_values = np.cos(x_values)\nprint(\"{:<10} {:<10} {:<10}\".format('x', 'sin(x)', 'cos(x)'))\nfor x, sin_x, cos_x in zip(x_values, sin_values, cos_values):\n    print(\"{:<10.2f} {:<10.2f} {:<10.2f}\".format(x, sin_x, cos_x))\n",
      "metadata": {}
    }
  ]
}